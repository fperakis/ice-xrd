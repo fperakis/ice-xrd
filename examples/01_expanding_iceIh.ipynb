{
 "cells": [
  {
   "cell_type": "markdown",
   "metadata": {},
   "source": [
    "# Expanding ice Ih and calculating the radial distribution"
   ]
  },
  {
   "cell_type": "code",
   "execution_count": 72,
   "metadata": {
    "collapsed": false
   },
   "outputs": [],
   "source": [
    "import numpy as np\n",
    "from prody import *\n",
    "from matplotlib import pyplot as plt\n",
    "import sys\n",
    "import time\n",
    "\n",
    "sys.path.insert(0, '../src/')\n",
    "from parameters import *\n",
    "\n",
    "import radial_distribution\n",
    "reload(radial_distribution)\n",
    "from radial_distribution import *\n",
    "\n",
    "import pdb_handling\n",
    "reload(pdb_handling)\n",
    "from pdb_handling import *"
   ]
  },
  {
   "cell_type": "markdown",
   "metadata": {},
   "source": [
    "### Parameters"
   ]
  },
  {
   "cell_type": "code",
   "execution_count": 39,
   "metadata": {
    "collapsed": false
   },
   "outputs": [],
   "source": [
    "# g(r) parameters\n",
    "max_r = 26 #Angst\n",
    "bin_width = .1 \n",
    "nbins = int(max_r/bin_width) \n",
    "\n",
    "# random displacement parameters\n",
    "n_random = 1\n",
    "dr = 0.2\n",
    "\n",
    "# ice parameters\n",
    "file_name, density, dx, dy, dz = iceIh_parameters()\n",
    "n_expand=5"
   ]
  },
  {
   "cell_type": "code",
   "execution_count": 75,
   "metadata": {
    "collapsed": false
   },
   "outputs": [],
   "source": [
    "save_path = '../analysis/'\n",
    "data_path = '../data/'\n",
    "data_file = '%s%s.pdb'%(data_path,file_name)"
   ]
  },
  {
   "cell_type": "markdown",
   "metadata": {},
   "source": [
    "### Load data"
   ]
  },
  {
   "cell_type": "code",
   "execution_count": null,
   "metadata": {
    "collapsed": true
   },
   "outputs": [],
   "source": [
    "wtr1 = parsePDB(data_file)"
   ]
  },
  {
   "cell_type": "code",
   "execution_count": 10,
   "metadata": {
    "collapsed": false
   },
   "outputs": [],
   "source": [
    "oxgs1 = wtr1.select('name O1')\n",
    "oxgs2 = wtr1.select('name O2')\n",
    "oxgs3 = wtr1.select('name O3')\n",
    "oxgs4 = wtr1.select('name O4')\n",
    "oxgs5 = wtr1.select('name O5')\n",
    "oxgs6 = wtr1.select('name O6')\n",
    "oxgs =  oxgs1.copy()+oxgs2.copy()+oxgs3.copy()+oxgs4.copy()+oxgs5.copy()+oxgs6.copy()\n",
    "xyz = oxgs.getCoords()"
   ]
  },
  {
   "cell_type": "markdown",
   "metadata": {},
   "source": [
    "### Expand ice"
   ]
  },
  {
   "cell_type": "code",
   "execution_count": 40,
   "metadata": {
    "collapsed": false
   },
   "outputs": [
    {
     "name": "stdout",
     "output_type": "stream",
     "text": [
      "Crystal expanded: 117A x 110A x 135A \n"
     ]
    }
   ],
   "source": [
    "oxgs_expanded = expand_ice(oxgs,n=n_expand,dx=dx,dy=dy,dz=dz)\n",
    "xyz_expanded  = oxgs_expanded.getCoords()"
   ]
  },
  {
   "cell_type": "markdown",
   "metadata": {},
   "source": [
    "Remove doubles"
   ]
  },
  {
   "cell_type": "code",
   "execution_count": 60,
   "metadata": {
    "collapsed": false
   },
   "outputs": [],
   "source": [
    "xyz_unique = np.unique(xyz_expanded,axis=0)"
   ]
  },
  {
   "cell_type": "markdown",
   "metadata": {},
   "source": [
    "Save expanded"
   ]
  },
  {
   "cell_type": "code",
   "execution_count": 260,
   "metadata": {
    "collapsed": false
   },
   "outputs": [],
   "source": [
    "#outfile = '%s%s_exp.pdb'%(data_path,file_name)\n",
    "#writePDB(outfile,oxgs_expanded)"
   ]
  },
  {
   "cell_type": "markdown",
   "metadata": {},
   "source": [
    "### Calculate g(r)"
   ]
  },
  {
   "cell_type": "markdown",
   "metadata": {},
   "source": [
    "Radial distribution of the expanded crystal"
   ]
  },
  {
   "cell_type": "code",
   "execution_count": null,
   "metadata": {
    "collapsed": false
   },
   "outputs": [],
   "source": [
    "t0 = time.time()\n",
    "gr0 = calculate_gr(xyz_unique,nbins=nbins,bin_width=bin_width,density=density,radius = max_r)\n",
    "r = np.arange(0,nbins*bin_width,bin_width)\n",
    "print time.time()-t0"
   ]
  },
  {
   "cell_type": "markdown",
   "metadata": {},
   "source": [
    "Introduce disorder "
   ]
  },
  {
   "cell_type": "code",
   "execution_count": null,
   "metadata": {
    "collapsed": false
   },
   "outputs": [],
   "source": [
    "gr = np.zeros(nbins)\n",
    "n_oxygens = xyz_unique.shape[0]\n",
    "\n",
    "rnd = np.random.random_sample((n_oxygens,3))\n",
    "t0 = time.time()\n",
    "for i in range(n_random):\n",
    "    rnd = np.random.random_sample((n_oxygens,3))\n",
    "    dxyz = (rnd*2-1)*dr\n",
    "    gr += calculate_gr(xyz_unique+dxyz,nbins=nbins,bin_width=bin_width,density=density,radius = max_r)\n",
    "gr/=float(n_random)\n",
    "print time.time()-t0"
   ]
  },
  {
   "cell_type": "markdown",
   "metadata": {},
   "source": [
    "### plot results"
   ]
  },
  {
   "cell_type": "code",
   "execution_count": 73,
   "metadata": {
    "collapsed": false
   },
   "outputs": [
    {
     "data": {
      "image/png": "[encoded data removed]",
      "text/plain": [
       "<matplotlib.figure.Figure at 0x1088d10d0>"
      ]
     },
     "metadata": {},
     "output_type": "display_data"
    }
   ],
   "source": [
    "plt.figure(figsize=[7,3])\n",
    "plt.plot(r,gr)\n",
    "plt.plot(r,gr0*dr)\n",
    "plt.xlim(0,25)\n",
    "plt.ylim(0,3)\n",
    "plt.grid()\n",
    "plt.ylabel(r'$g(r)$',size=12)\n",
    "plt.xlabel(r'$r (\\rm \\AA)$',size=12)\n",
    "plt.show()"
   ]
  },
  {
   "cell_type": "code",
   "execution_count": 77,
   "metadata": {
    "collapsed": false
   },
   "outputs": [],
   "source": [
    "save_file = '%sgr_%s_d=%d_dr=%.1f'%(save_path,file_name,n_expand*min([dx,dy,dz]),dr)\n",
    "np.save(save_file,np.array([r,gr]))\n",
    "\n",
    "#np.save('%sgr_expanded_disorder'%save_path,np.array([r,gr]))"
   ]
  },
  {
   "cell_type": "code",
   "execution_count": null,
   "metadata": {
    "collapsed": true
   },
   "outputs": [],
   "source": []
  }
 ],
 "metadata": {
  "kernelspec": {
   "display_name": "Python 2",
   "language": "python",
   "name": "python2"
  },
  "language_info": {
   "codemirror_mode": {
    "name": "ipython",
    "version": 2
   },
   "file_extension": ".py",
   "mimetype": "text/x-python",
   "name": "python",
   "nbconvert_exporter": "python",
   "pygments_lexer": "ipython2",
   "version": "2.7.10"
  }
 },
 "nbformat": 4,
 "nbformat_minor": 1
}
